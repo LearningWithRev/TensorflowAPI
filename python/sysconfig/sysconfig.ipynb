{
 "cells": [
  {
   "cell_type": "markdown",
   "metadata": {},
   "source": [
    "# tf.sysconfig\n",
    "\n",
    "The API documentation for this explanation can be found here: https://www.tensorflow.org/api_docs/python/tf/sysconfig\n",
    "\n",
    "*This video was created using Tensorflow 2.10.0. Classes and Functions may differ in newer or older versions of Tensorflow*"
   ]
  },
  {
   "cell_type": "code",
   "execution_count": 1,
   "metadata": {},
   "outputs": [],
   "source": [
    "import tensorflow as tf"
   ]
  },
  {
   "cell_type": "markdown",
   "metadata": {},
   "source": [
    "### tf.sysconfig.get_build_info()\n",
    "Calling tf.sysconfig.get_build_info() returns a dictionary that describes Tensorflow's build environment. A build environment are the setting used when Tensorflow was compiled so it would work efficiently with a specific set of hardware."
   ]
  },
  {
   "cell_type": "code",
   "execution_count": 2,
   "metadata": {},
   "outputs": [
    {
     "data": {
      "text/plain": [
       "OrderedDict([('cpu_compiler',\n",
       "              'C:/Program Files (x86)/Microsoft Visual Studio/2019/Community/VC/Tools/MSVC/14.27.29110/bin/HostX64/x64/cl.exe'),\n",
       "             ('cuda_compute_capabilities',\n",
       "              ['sm_35', 'sm_50', 'sm_60', 'sm_70', 'sm_75', 'compute_80']),\n",
       "             ('cuda_version', '64_112'),\n",
       "             ('cudart_dll_name', 'cudart64_112.dll'),\n",
       "             ('cudnn_dll_name', 'cudnn64_8.dll'),\n",
       "             ('cudnn_version', '64_8'),\n",
       "             ('is_cuda_build', True),\n",
       "             ('is_rocm_build', False),\n",
       "             ('is_tensorrt_build', False),\n",
       "             ('msvcp_dll_names', 'msvcp140.dll,msvcp140_1.dll'),\n",
       "             ('nvcuda_dll_name', 'nvcuda.dll')])"
      ]
     },
     "execution_count": 2,
     "metadata": {},
     "output_type": "execute_result"
    }
   ],
   "source": [
    "tf.sysconfig.get_build_info()"
   ]
  },
  {
   "cell_type": "markdown",
   "metadata": {},
   "source": [
    "### tf.sysconfig.get_compile_flags\n",
    "Calling this method shows the compile flags used when your build of tensorflow was built."
   ]
  },
  {
   "cell_type": "code",
   "execution_count": 3,
   "metadata": {},
   "outputs": [
    {
     "data": {
      "text/plain": [
       "['-Ic:\\\\Users\\\\rgbar\\\\anaconda3\\\\envs\\\\RyanNet\\\\lib\\\\site-packages\\\\tensorflow\\\\include',\n",
       " '-D_GLIBCXX_USE_CXX11_ABI=0',\n",
       " '-DEIGEN_MAX_ALIGN_BYTES=64']"
      ]
     },
     "execution_count": 3,
     "metadata": {},
     "output_type": "execute_result"
    }
   ],
   "source": [
    "tf.sysconfig.get_compile_flags()"
   ]
  },
  {
   "cell_type": "markdown",
   "metadata": {},
   "source": [
    "### tf.sysconfig.get_include\n",
    "Calling this function returns the directory where Tensorflow C++ header files are saved. Remember, Tensorflow is execectuing all compution under the hood in C/C++ even when you are coding in python."
   ]
  },
  {
   "cell_type": "code",
   "execution_count": 4,
   "metadata": {},
   "outputs": [
    {
     "data": {
      "text/plain": [
       "'c:\\\\Users\\\\rgbar\\\\anaconda3\\\\envs\\\\RyanNet\\\\lib\\\\site-packages\\\\tensorflow\\\\include'"
      ]
     },
     "execution_count": 4,
     "metadata": {},
     "output_type": "execute_result"
    }
   ],
   "source": [
    "tf.sysconfig.get_include()"
   ]
  },
  {
   "cell_type": "markdown",
   "metadata": {},
   "source": [
    "### tf.sysconfig.get_lib()\n",
    "Calling this funciton returns the directory where Tensorflow's framework library files are saved."
   ]
  },
  {
   "cell_type": "code",
   "execution_count": 5,
   "metadata": {},
   "outputs": [
    {
     "data": {
      "text/plain": [
       "'c:\\\\Users\\\\rgbar\\\\anaconda3\\\\envs\\\\RyanNet\\\\lib\\\\site-packages\\\\tensorflow'"
      ]
     },
     "execution_count": 5,
     "metadata": {},
     "output_type": "execute_result"
    }
   ],
   "source": [
    "tf.sysconfig.get_lib()"
   ]
  },
  {
   "cell_type": "markdown",
   "metadata": {},
   "source": [
    "### tf.sysconfig.get_link_flags\n",
    "Calling this function will return any custom flags or operators that you have imported."
   ]
  },
  {
   "cell_type": "code",
   "execution_count": 6,
   "metadata": {},
   "outputs": [
    {
     "data": {
      "text/plain": [
       "[]"
      ]
     },
     "execution_count": 6,
     "metadata": {},
     "output_type": "execute_result"
    }
   ],
   "source": [
    "tf.sysconfig.get_link_flags()"
   ]
  },
  {
   "cell_type": "code",
   "execution_count": null,
   "metadata": {},
   "outputs": [],
   "source": []
  }
 ],
 "metadata": {
  "kernelspec": {
   "display_name": "Python 3.9.7 ('RyanNet')",
   "language": "python",
   "name": "python3"
  },
  "language_info": {
   "codemirror_mode": {
    "name": "ipython",
    "version": 3
   },
   "file_extension": ".py",
   "mimetype": "text/x-python",
   "name": "python",
   "nbconvert_exporter": "python",
   "pygments_lexer": "ipython3",
   "version": "3.9.7"
  },
  "orig_nbformat": 4,
  "vscode": {
   "interpreter": {
    "hash": "44550f12b31f30565f4a8d810e8cc3cda24604a5db051cc5027127781888756d"
   }
  }
 },
 "nbformat": 4,
 "nbformat_minor": 2
}
