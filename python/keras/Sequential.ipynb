{
 "cells": [
  {
   "cell_type": "code",
   "execution_count": null,
   "metadata": {},
   "outputs": [],
   "source": []
  }
 ],
 "metadata": {
  "kernelspec": {
   "display_name": "Python 3.6.12 ('3.6_Dev')",
   "language": "python",
   "name": "python3"
  },
  "language_info": {
   "name": "python",
   "version": "3.6.12"
  },
  "orig_nbformat": 4,
  "vscode": {
   "interpreter": {
    "hash": "63f80f87a6cd7a839f8a50ea54954423ab64cb4d934f171e1c061e3aa69c65a5"
   }
  }
 },
 "nbformat": 4,
 "nbformat_minor": 2
}
